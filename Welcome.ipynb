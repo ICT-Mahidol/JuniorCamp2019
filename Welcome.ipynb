{
  "nbformat": 4,
  "nbformat_minor": 0,
  "metadata": {
    "colab": {
      "name": "Welcome.ipynb",
      "version": "0.3.2",
      "provenance": [],
      "include_colab_link": true
    },
    "kernelspec": {
      "name": "python3",
      "display_name": "Python 3"
    }
  },
  "cells": [
    {
      "cell_type": "markdown",
      "metadata": {
        "id": "view-in-github",
        "colab_type": "text"
      },
      "source": [
        "<a href=\"https://colab.research.google.com/github/ICT-Mahidol/JuniorCamp2019/blob/master/Welcome.ipynb\" target=\"_parent\"><img src=\"https://colab.research.google.com/assets/colab-badge.svg\" alt=\"Open In Colab\"/></a>"
      ]
    },
    {
      "metadata": {
        "id": "ZbjyJ3DlrZ0H",
        "colab_type": "code",
        "colab": {}
      },
      "cell_type": "code",
      "source": [
        ""
      ],
      "execution_count": 0,
      "outputs": []
    },
    {
      "metadata": {
        "id": "PhpiXdnCr0Lo",
        "colab_type": "text"
      },
      "cell_type": "markdown",
      "source": [
        "#Welcome to Database Workshop\n",
        "\n",
        "\n",
        "---\n",
        "##Outline\n",
        "* รู้จักกับ Python และ Colab\n",
        "* ฐานข้อมูลง่ายๆด้วย SQLite\n",
        "* นำเสนอข้อมูลให้โดนใจด้วย Plotly\n",
        "\n",
        "\n"
      ]
    },
    {
      "metadata": {
        "id": "8SIbP0XXtU5Y",
        "colab_type": "text"
      },
      "cell_type": "markdown",
      "source": [
        "<img height=\"40px\" src=\"https://upload.wikimedia.org/wikipedia/commons/thumb/c/c3/Python-logo-notext.svg/1024px-Python-logo-notext.svg.png\" align=\"left\" hspace=\"10px\" vspace=\"0px\"> \n",
        "#Python\n",
        "\n",
        "---\n",
        "##Python  คืออะไร?\n",
        "Python is a popular programming language. Its high-level built in data structures, combined with dynamic typing and dynamic binding, make it very attractive for Rapid Application Development. Python is simple, easy to learn syntax emphasizes readability and therefore reduces the cost of program maintenance. Python supports modules and packages, which encourages program modularity and code reuse. [Python Software Foundation](https://www.python.org/doc/essays/blurb/)\n",
        "\n",
        "##Python สามารถใช้ทำอะไรได้บ้าง?\n",
        "* Python can be used on a server to create web applications.\n",
        "* Python can be used alongside software to create workflows.\n",
        "* Python can connect to database systems. It can also read and modify files.\n",
        "* Python can be used to handle big data and perform complex mathematics.\n",
        "* Python can be used for rapid prototyping, or for production-ready software development.\n"
      ]
    },
    {
      "metadata": {
        "id": "uJyMFCPlx0AX",
        "colab_type": "text"
      },
      "cell_type": "markdown",
      "source": [
        "<img height=\"45px\" src=\"https://colab.research.google.com/img/colab_favicon.ico\" align=\"left\" hspace=\"10px\" vspace=\"0px\"> \n",
        "#Colaboratory\n",
        "\n",
        "\n",
        "---\n",
        "ก่อนอื่นเราต้องทำความรู้จักกับ [Jupyter Notebook ](https://jupyter.org/)กันก่อน Jupyter Notebook เป็นโปรแกรมที่เอาไว้ใช้เขียน Code Python (เปรียบเหมือนกับการที่เราใช้ MS Word เพื่อสร้างเอกสารต่างๆ) ในอดีต Programmer จำเป็นต้องลงโปรแกรม Jupyter Notebook ที่เครื่องของตัวเอง แต่ตั้งแต่ปี 2014 เป็นต้นมา Google ได้ร่วมมือกับ Jupyter และทำการสร้าง Colab ขึ้นมา\n",
        "\n",
        "Google Colab หรือ ชื่อเต็มๆคือ Google Colaboratory เป็น Jupyter Notebook บน Cloud จึงทำให้สามารถ เขียน Code Python และ run Python ได้ผ่าน Browswer โดยไม่ต้อง install โปรแกรมอะไรเพิ่มเติม นอกจากนี้ยังสามารถ แชร์ Code หรือ แก้ไข Code ไปพร้อมกับผู้ร่วมงานของเราได้อีกด้วย\n",
        "\n",
        "## เริ่มต้นการใช้งาน\n",
        "1. ไปที่ https://colab.research.google.com/\n",
        "2. Sign in ด้วย Google Account\n",
        "3. Click NEW PYTHON 3 NOTEBOOK เพื่อสร้าง Notebook อันใหม่ หรือ เปิดไฟล์ Notebook ที่มีอยู่แล้วจาก Google Drive/ Github/Upload\n",
        "   "
      ]
    },
    {
      "metadata": {
        "id": "Ljcv6zBC36gP",
        "colab_type": "code",
        "colab": {}
      },
      "cell_type": "code",
      "source": [
        ""
      ],
      "execution_count": 0,
      "outputs": []
    }
  ]
}