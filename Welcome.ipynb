{
  "nbformat": 4,
  "nbformat_minor": 0,
  "metadata": {
    "colab": {
      "name": "Welcome.ipynb",
      "version": "0.3.2",
      "provenance": [],
      "collapsed_sections": [],
      "include_colab_link": true
    },
    "kernelspec": {
      "name": "python3",
      "display_name": "Python 3"
    }
  },
  "cells": [
    {
      "cell_type": "markdown",
      "metadata": {
        "id": "view-in-github",
        "colab_type": "text"
      },
      "source": [
        "<a href=\"https://colab.research.google.com/github/ICT-Mahidol/JuniorCamp2019/blob/master/Welcome.ipynb\" target=\"_parent\"><img src=\"https://colab.research.google.com/assets/colab-badge.svg\" alt=\"Open In Colab\"/></a>"
      ]
    },
    {
      "metadata": {
        "id": "PhpiXdnCr0Lo",
        "colab_type": "text"
      },
      "cell_type": "markdown",
      "source": [
        "#Welcome to Database Workshop\n",
        "\n",
        "\n",
        "---\n",
        "##Outline\n",
        "* รู้จักกับ Python และ Colab (1 ชั่วโมง)\n",
        "* ฐานข้อมูลง่ายๆด้วย SQLite (1 ชั่วโมง)\n",
        "* นำเสนอข้อมูลให้โดนใจด้วย Plotly (2 ชั่วโมง)\n",
        "\n",
        "\n"
      ]
    },
    {
      "metadata": {
        "id": "8SIbP0XXtU5Y",
        "colab_type": "text"
      },
      "cell_type": "markdown",
      "source": [
        "<img height=\"40px\" src=\"https://upload.wikimedia.org/wikipedia/commons/thumb/c/c3/Python-logo-notext.svg/1024px-Python-logo-notext.svg.png\" align=\"left\" hspace=\"10px\" vspace=\"0px\"> \n",
        "#Python\n",
        "\n",
        "---\n",
        "##Python  คืออะไร?\n",
        "Python is a popular programming language. Its high-level built in data structures, combined with dynamic typing and dynamic binding, make it very attractive for Rapid Application Development. Python is simple, easy to learn syntax emphasizes readability and therefore reduces the cost of program maintenance. Python supports modules and packages, which encourages program modularity and code reuse. [Python Software Foundation](https://www.python.org/doc/essays/blurb/)\n",
        "\n",
        "##Python สามารถใช้ทำอะไรได้บ้าง?\n",
        "* Python can be used on a server to create web applications.\n",
        "* Python can be used alongside software to create workflows.\n",
        "* Python can connect to database systems. It can also read and modify files.\n",
        "* Python can be used to handle big data and perform complex mathematics.\n",
        "* Python can be used for rapid prototyping, or for production-ready software development.\n"
      ]
    },
    {
      "metadata": {
        "id": "uJyMFCPlx0AX",
        "colab_type": "text"
      },
      "cell_type": "markdown",
      "source": [
        "<img height=\"45px\" src=\"https://colab.research.google.com/img/colab_favicon.ico\" align=\"left\" hspace=\"10px\" vspace=\"0px\"> \n",
        "#Colaboratory\n",
        "\n",
        "\n",
        "---\n",
        "ก่อนอื่นเราต้องทำความรู้จักกับ [Jupyter Notebook ](https://jupyter.org/)กันก่อน Jupyter Notebook เป็นโปรแกรมที่เอาไว้ใช้เขียน Code Python (เปรียบเหมือนกับการที่เราใช้ MS Word เพื่อสร้างเอกสารต่างๆ) ในอดีต Programmer จำเป็นต้องลงโปรแกรม Jupyter Notebook ที่เครื่องของตัวเอง แต่ตั้งแต่ปี 2014 เป็นต้นมา Google ได้ร่วมมือกับ Jupyter และทำการสร้าง Colab ขึ้นมา\n",
        "\n",
        "Google Colab หรือ ชื่อเต็มๆคือ Google Colaboratory เป็น Jupyter Notebook บน Cloud จึงทำให้สามารถ เขียน Code Python และ run Python ได้ผ่าน Browser โดยไม่จำเป็นต้อง install โปรแกรมอะไรเพิ่มเติม นอกจากนี้ยังสามารถ แชร์ Code หรือ แก้ไข Code ไปพร้อมกับผู้ร่วมงานของเราได้อีกด้วย\n",
        "\n",
        "## เริ่มต้นการใช้งาน\n",
        "1. ไปที่ https://colab.research.google.com/\n",
        "2. Sign in ด้วย Google Account\n",
        "3. Click NEW PYTHON 3 NOTEBOOK เพื่อสร้าง Notebook อันใหม่ หรือ เปิดไฟล์ Notebook ที่มีอยู่แล้วจาก Google Drive/ Github/Upload\n",
        "\n",
        "## Cells ใน Colab/Jupyter Notebook\n",
        "ในแต่ละ Notebook ก็จะประกอบไปด้วย List of Cells โดยแบ่งเป็นสองประเภท คือ\n",
        "\n",
        "**1. Code Cell** ซึ่งเป็นส่วนที่จะเขียน Code Python ลงไป และเมื่อต้องการ Run Code ส่วนนั้นๆ ให้คลิกที่ปุ่ม ▷ button ที่อยู่ทางด้านซ้ายมือของ Cell หรือกดที่แป้นพิมพ์  \"Ctrl+Enter\" สำหรับเครื่อง Windows และ \"⌘ + Enter\" สำหรับเครื่อง MAC OS. ผลลัพธ์ของ Code ใน Cell นั้นๆ จะถูกแสดงอยู่ด้านล่างของ Cell\n",
        "\n"
      ]
    },
    {
      "metadata": {
        "id": "Ljcv6zBC36gP",
        "colab_type": "code",
        "colab": {
          "base_uri": "https://localhost:8080/",
          "height": 34
        },
        "outputId": "0e9488d9-3ec9-4b96-b190-930c8d74fe14"
      },
      "cell_type": "code",
      "source": [
        "x = 10\n",
        "x"
      ],
      "execution_count": 1,
      "outputs": [
        {
          "output_type": "execute_result",
          "data": {
            "text/plain": [
              "10"
            ]
          },
          "metadata": {
            "tags": []
          },
          "execution_count": 1
        }
      ]
    },
    {
      "metadata": {
        "id": "4N6EZ0tO62e2",
        "colab_type": "text"
      },
      "cell_type": "markdown",
      "source": [
        "**2. Text Cell **ซึ่งจะเอาไว้แสดงข้อความ คำอธิบายต่างๆ ข้อความที่อยู่ใน Text Cell นี้สามารถจัดแต่งรูปแบบได้ โดยใช้ [markdown systex](https://colab.research.google.com/notebooks/markdown_guide.ipynb). ยกตัวอย่างเช่น\n",
        " \n",
        "ถ้าต้องการเน้นข้อความให้เป็นหัวเรื่อง จะใช้ \\# ในการระบุ และเพิ่มจำนวน \\# ขึ้นเรื่อยๆเมื่อต้องการให้ตัวเล็กลง เช่น\n",
        "\n",
        "\\# หัวเรื่องขนาดใหญ่ h1\n",
        "# หัวเรื่องขนาดใหญ่ h1\n",
        "\n",
        "\\##### หัวเรื่องขนาดเล็กลง h5\n",
        "##### หัวเรื่องขนาดเล็กลง h5\n",
        "\n",
        "---\n",
        "\n",
        "\n",
        "## การเพิ่มและย้าย Cell\n",
        "ถ้าต้องการเพิ่ม Cell ใหม่ให้คลิกที่ปุ่ม  + CODE และ + TEXT ซึ่งปุ่มนี้จะอยู่ตรงเมนูด้านบน หรือเมื่อเอา mouse ไปวางไว้ระหว่าง cell\n",
        "\n",
        "ถ้าต้องการย้าย Cell ขึ้นหรือลง ก็ให้คลิกที่ปุ่ม ลูกศรขึ้น Cell หรือ ลูกศรลง Cell ที่อยู่ตรงเมนูด้านบน\n",
        "\n"
      ]
    },
    {
      "metadata": {
        "id": "Dhu0AVlr_JjG",
        "colab_type": "text"
      },
      "cell_type": "markdown",
      "source": [
        "---\n",
        "\n",
        "###****แบบฝึกหัด:**\n",
        "> 1. เพิ่ม Code Cell อันใหม่ และ ให้ใส่ค่า X เป็น 100 และ Run ให้แสดงผลลัพธ์ด้านล่าง\n",
        "> 2. เพิ่ม Text Cell อันใหม่ อยู่ใต้ Code Cell ที่เพิ่มไปในข้อ 1 และ พิมพ์ข้อความว่า \"ค่าของ X คือ 100\" โดยใช้ขนาดหัวเรื่อง h3\n",
        "> 3. ย้าย Text Cell ขึ้นไปอยู่เหนือ Code Cell\n",
        "\n",
        "\n"
      ]
    },
    {
      "metadata": {
        "id": "Qsk7l9av-TL2",
        "colab_type": "text"
      },
      "cell_type": "markdown",
      "source": [
        "\n",
        "---\n",
        "# Working with Python\n",
        "\n",
        "\n",
        "\n",
        "\n",
        "* Whitespace\n",
        "* variable\n",
        "* output\n",
        "* Basic Operators\n",
        "\n"
      ]
    },
    {
      "metadata": {
        "id": "jqeL8HBDCGDV",
        "colab_type": "text"
      },
      "cell_type": "markdown",
      "source": [
        "##Indent (การจัดย่อหน้า)\n",
        "Lines of code in the same block should have the same indent size. This makes the python easy to read, but if you are copying and pasting from other programs that don't handle spacing consistently, you may run into trouble."
      ]
    },
    {
      "metadata": {
        "id": "fgn7DVTO-dM-",
        "colab_type": "code",
        "colab": {}
      },
      "cell_type": "code",
      "source": [
        "for x in range(0,10):\n",
        "print(x)"
      ],
      "execution_count": 0,
      "outputs": []
    },
    {
      "metadata": {
        "id": "4QI-2L9vCJzV",
        "colab_type": "code",
        "colab": {}
      },
      "cell_type": "code",
      "source": [
        "for x in range(0,10):\n",
        "    print (x)"
      ],
      "execution_count": 0,
      "outputs": []
    },
    {
      "metadata": {
        "id": "KHX_7iUqCNpF",
        "colab_type": "text"
      },
      "cell_type": "markdown",
      "source": [
        "##Variable (ตัวแปร)\n",
        "Python variables do not need explicit declaration to reserve memory space. The declaration happens automatically when you assign a value to a variable. The equal sign (=) is used to assign values to variables.\n",
        "\n",
        "The operand to the left of the = operator is the name of the variable and the operand to the right of the = operator is the value stored in the variable."
      ]
    },
    {
      "metadata": {
        "id": "auW-PmRyCTEI",
        "colab_type": "code",
        "colab": {}
      },
      "cell_type": "code",
      "source": [
        "counter = 100          # An integer assignment\n",
        "miles   = 1000.0       # A floating point\n",
        "name    = \"John\"       # A string\n",
        "\n",
        "print (counter)\n",
        "print (miles)\n",
        "print (name)"
      ],
      "execution_count": 0,
      "outputs": []
    },
    {
      "metadata": {
        "id": "ik6WhSsJCUPV",
        "colab_type": "text"
      },
      "cell_type": "markdown",
      "source": [
        "## Output (การแสดงผล)\n",
        "There are several ways to present the output of a program; data can be printed in a human-readable form, or written to a file for future use. In this introduction, we focus on **print()** function."
      ]
    },
    {
      "metadata": {
        "id": "j3e0XcilCZkl",
        "colab_type": "code",
        "colab": {
          "base_uri": "https://localhost:8080/",
          "height": 34
        },
        "outputId": "ef5e7c99-155e-43f4-e893-08496774533f"
      },
      "cell_type": "code",
      "source": [
        "print(\"Hello, ICT Junior Camp#11!\")"
      ],
      "execution_count": 3,
      "outputs": [
        {
          "output_type": "stream",
          "text": [
            "Hello, ICT Junior Camp#11!\n"
          ],
          "name": "stdout"
        }
      ]
    },
    {
      "metadata": {
        "id": "DTim0Y9qCi6u",
        "colab_type": "text"
      },
      "cell_type": "markdown",
      "source": [
        "### The String format() Method\n",
        "Basic usage of the str.format() method looks like this:"
      ]
    },
    {
      "metadata": {
        "id": "7R_WQsm1Ciuv",
        "colab_type": "code",
        "colab": {
          "base_uri": "https://localhost:8080/",
          "height": 34
        },
        "outputId": "aac30902-bc33-4688-b079-2b4272b03f01"
      },
      "cell_type": "code",
      "source": [
        "print('We are {} who say \"{}!\"'.format('ICT Juniors', 'Awesome'))"
      ],
      "execution_count": 7,
      "outputs": [
        {
          "output_type": "stream",
          "text": [
            "We are ICT Juniors who say \"Awesome!\"\n"
          ],
          "name": "stdout"
        }
      ]
    },
    {
      "metadata": {
        "id": "j_i7m8paDHom",
        "colab_type": "text"
      },
      "cell_type": "markdown",
      "source": [
        "### Show data in a variable\n",
        "If we want to see data in a variable, we just call the variable name."
      ]
    },
    {
      "metadata": {
        "id": "gpUUDdFLDJ1O",
        "colab_type": "code",
        "colab": {
          "base_uri": "https://localhost:8080/",
          "height": 34
        },
        "outputId": "0e78ed87-9a7d-469e-a61c-0e1563990102"
      },
      "cell_type": "code",
      "source": [
        "temperature = 30\n",
        "# call the variable name to show it's data\n",
        "temperature"
      ],
      "execution_count": 8,
      "outputs": [
        {
          "output_type": "execute_result",
          "data": {
            "text/plain": [
              "30"
            ]
          },
          "metadata": {
            "tags": []
          },
          "execution_count": 8
        }
      ]
    },
    {
      "metadata": {
        "id": "pWlRSiM6EHXo",
        "colab_type": "text"
      },
      "cell_type": "markdown",
      "source": [
        "---\n",
        "\n",
        "###****แบบฝึกหัด:**\n",
        "> 1. เพิ่ม Code Cell ไว้ต่อจาก Cell นี้\n",
        "> 2. สร้างตัวแปรชื่อว่า name และเก็บค่าชื่อของคุณ\n",
        "> 3. สร้างตัวแปรชื่อว่า nickname และเก็บค่าชื่อเล่นของคุณ\n",
        "> 4. สร้างตัวแปรชื่อว่า age และเก็บค่าอายุของคุณ\n",
        "> 4. แสดงผลว่า \"My Name is {name} ({nickname}). I'm {age} years old.\" ยกตัวอย่งเช่น My Name is Lisa (Pink). I'm 23 years old.\n"
      ]
    },
    {
      "metadata": {
        "id": "lg10-Sg9DaIl",
        "colab_type": "text"
      },
      "cell_type": "markdown",
      "source": [
        "## Basic Operators\n",
        "### Arithmetic Operators\n",
        "<table class=\"table table-bordered\">\n",
        "<tr>\n",
        "<th style=\"text-align:center; width:21%\">Operator</th>\n",
        "<th style=\"text-align:center; width:45%\">Description</th>\n",
        "<th style=\"text-align:center;\">Example</th>\n",
        "</tr>\n",
        "<tr>\n",
        "<td class=\"ts\">&plus; Addition</td>\n",
        "<td>Adds values on either side of the operator.</td>\n",
        "<td class=\"ts\">a &plus; b = 31</td>\n",
        "</tr>\n",
        "<tr>\n",
        "<td class=\"ts\">- Subtraction</td>\n",
        "<td>Subtracts right hand operand from left hand operand.</td>\n",
        "<td class=\"ts\">a – b = -11</td>\n",
        "</tr>\n",
        "<tr>\n",
        "<td class=\"ts\">* Multiplication</td>\n",
        "<td>Multiplies values on either side of the operator</td>\n",
        "<td class=\"ts\">a * b = 210</td>\n",
        "</tr>\n",
        "<tr>\n",
        "<td class=\"ts\">/ Division</td>\n",
        "<td>Divides left hand operand by right hand operand</td>\n",
        "<td class=\"ts\">b / a = 2.1</td>\n",
        "</tr>\n",
        "<tr>\n",
        "<td class=\"ts\">% Modulus</td>\n",
        "<td>Divides left hand operand by right hand operand and returns remainder</td>\n",
        "<td class=\"ts\">b % a = 1</td>\n",
        "</tr>\n",
        "\n",
        "</table>\n"
      ]
    },
    {
      "metadata": {
        "id": "snuLd2gPDg1t",
        "colab_type": "code",
        "colab": {
          "base_uri": "https://localhost:8080/",
          "height": 102
        },
        "outputId": "83527869-81d8-4b8f-c971-310c7c0526c4"
      },
      "cell_type": "code",
      "source": [
        "a = 21\n",
        "b = 10\n",
        "c = 0\n",
        "\n",
        "c = a + b\n",
        "print (\"Line 1 - Value of c is \", c)\n",
        "\n",
        "c = a - b\n",
        "print (\"Line 2 - Value of c is \", c )\n",
        "\n",
        "c = a * b\n",
        "print (\"Line 3 - Value of c is \", c)\n",
        "\n",
        "c = a / b\n",
        "print (\"Line 4 - Value of c is \", c )\n",
        "\n",
        "c = a % b\n",
        "print (\"Line 5 - Value of c is \", c)\n"
      ],
      "execution_count": 9,
      "outputs": [
        {
          "output_type": "stream",
          "text": [
            "Line 1 - Value of c is  31\n",
            "Line 2 - Value of c is  11\n",
            "Line 3 - Value of c is  210\n",
            "Line 4 - Value of c is  2.1\n",
            "Line 5 - Value of c is  1\n"
          ],
          "name": "stdout"
        }
      ]
    },
    {
      "metadata": {
        "id": "JFUUxiJPDtb2",
        "colab_type": "text"
      },
      "cell_type": "markdown",
      "source": [
        "### Comparison Operators\n",
        "\n",
        "<table class=\"table table-bordered\">\n",
        "<tr>\n",
        "<th style=\"text-align:center; width:21%\">Operator</th>\n",
        "<th style=\"text-align:center; width:45%\">Description</th>\n",
        "<th style=\"text-align:center;\">Example</th>\n",
        "</tr>\n",
        "<tr>\n",
        "<td class=\"ts\">==</td>\n",
        "<td>If the values of two operands are equal, then the condition becomes true.</td>\n",
        "<td class=\"ts\">(a == b) is not true.</td>\n",
        "</tr>\n",
        "<tr>\n",
        "<td class=\"ts\">!=</td>\n",
        "<td>If values of two operands are not equal, then condition becomes true.</td>\n",
        "<td class=\"ts\">(a!= b) is true. </td>\n",
        "</tr>\n",
        "<tr>\n",
        "<td class=\"ts\">&gt;</td>\n",
        "<td>If the value of left operand is greater than the value of right operand, then condition becomes true.</td>\n",
        "<td class=\"ts\">(a &gt; b) is not true.</td>\n",
        "</tr>\n",
        "<tr>\n",
        "<td class=\"ts\">&lt;</td>\n",
        "<td>If the value of left operand is less than the value of right operand, then condition becomes true.</td>\n",
        "<td class=\"ts\">(a &lt; b) is true.</td>\n",
        "</tr>\n",
        "<tr>\n",
        "<td class=\"ts\">&gt;=</td>\n",
        "<td>If the value of left operand is greater than or equal to the value of right operand, then condition becomes true.</td>\n",
        "<td class=\"ts\">(a &gt;= b) is not true.</td>\n",
        "</tr>\n",
        "<tr>\n",
        "<td class=\"ts\">&lt;=</td>\n",
        "<td>If the value of left operand is less than or equal to the value of right operand, then condition becomes true.</td>\n",
        "<td class=\"ts\">(a &lt;= b) is true.</td>\n",
        "</tr>\n",
        "</table>\n"
      ]
    },
    {
      "metadata": {
        "id": "OYXRVNonDtBd",
        "colab_type": "code",
        "colab": {
          "base_uri": "https://localhost:8080/",
          "height": 119
        },
        "outputId": "c1b3453b-4cc5-46d0-8869-3644083a5290"
      },
      "cell_type": "code",
      "source": [
        "a = 21\n",
        "b = 10\n",
        "\n",
        "if ( a == b ):\n",
        "   print (\"Line 1 - a is equal to b\")\n",
        "else:\n",
        "   print (\"Line 1 - a is not equal to b\")\n",
        "\n",
        "if ( a != b ):\n",
        "   print (\"Line 2 - a is not equal to b\")\n",
        "else:\n",
        "   print (\"Line 2 - a is equal to b\")\n",
        "\n",
        "if ( a < b ):\n",
        "   print (\"Line 3 - a is less than b\" )\n",
        "else:\n",
        "   print (\"Line 3 - a is not less than b\")\n",
        "\n",
        "if ( a > b ):\n",
        "   print (\"Line 4 - a is greater than b\")\n",
        "else:\n",
        "   print (\"Line 4 - a is not greater than b\")\n",
        "\n",
        "a,b = b,a #values of a and b swapped. a becomes 10, b becomes 21\n",
        "\n",
        "if ( a <= b ):\n",
        "   print (\"Line 5 - a is either less than or equal to  b\")\n",
        "else:\n",
        "   print (\"Line 5 - a is neither less than nor equal to  b\")\n",
        "\n",
        "if ( b >= a ):\n",
        "   print (\"Line 6 - b is either greater than  or equal to b\")\n",
        "else:\n",
        "   print (\"Line 6 - b is neither greater than  nor equal to b\")"
      ],
      "execution_count": 10,
      "outputs": [
        {
          "output_type": "stream",
          "text": [
            "Line 1 - a is not equal to b\n",
            "Line 2 - a is not equal to b\n",
            "Line 3 - a is not less than b\n",
            "Line 4 - a is greater than b\n",
            "Line 5 - a is either less than or equal to  b\n",
            "Line 6 - b is either greater than  or equal to b\n"
          ],
          "name": "stdout"
        }
      ]
    },
    {
      "metadata": {
        "id": "SaUe-O4AGGbM",
        "colab_type": "text"
      },
      "cell_type": "markdown",
      "source": [
        "---\n",
        "\n",
        "###****แบบฝึกหัด:**\n",
        "> 1. เพิ่ม Code Cell ไว้ต่อจาก Cell นี้\n",
        "> 2. สร้างตัวแปรชื่อว่า name และเก็บค่าชื่อของคุณ\n",
        "> 3. สร้างตัวแปรชื่อว่า nickname และเก็บค่าชื่อเล่นของคุณ\n",
        "> 4. สร้างตัวแปรชื่อว่า age และเก็บค่าอายุของคุณ\n",
        "> 4. แสดงผลว่า \"My Name is {name} ({nickname}). I'm {age} years old.\" ยกตัวอย่งเช่น My Name is Lisa (Pink). I'm 23 years old.\n"
      ]
    }
  ]
}